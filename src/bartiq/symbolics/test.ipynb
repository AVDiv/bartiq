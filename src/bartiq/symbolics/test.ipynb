{
 "cells": [
  {
   "cell_type": "code",
   "execution_count": 1,
   "metadata": {},
   "outputs": [],
   "source": [
    "from bartiq.symbolics.symbolic_manipulator import GSE, parse_to_sympy"
   ]
  },
  {
   "cell_type": "code",
   "execution_count": 2,
   "metadata": {},
   "outputs": [],
   "source": [
    "expr = parse_to_sympy(\n",
    "    '55*beth*(-1 + (beth*(n/2 - 1)*(calc_lambda(M, beth*(n/2 - 1)) - 1) + beth*(n/2 - 1))/(beth*(n/2 - 1)))*(n/2 - 1) + 2*beth*(n/2 - 1)*(calc_lambda(M, beth*(n/2 - 1)) - 1)*(2*ceiling(1.5*beth*(n/2 - 1)*(calc_lambda(M, beth*(n/2 - 1)) - 1)) + 1) + 3*beth*(n/2 - 1)*(calc_lambda(M, beth*(n/2 - 1)) - 1) + 2*beth*(n/2 - 1)*(2*ceiling(1.5*beth*(n/2 - 1)) + 1) + 3*beth*(n/2 - 1) + 3*beth + 2*(n/2 - 1)*(108*beth + 4*(2*ceiling(1.5*(Mod(2, n/2))) + 1)*(Mod(2, n/2)) + 4*ceiling(1.5*(Mod(2, n/2))) + 2748) + (ceiling(0.75*beth*(n/2 - 1)*(calc_lambda(M, beth*(n/2 - 1)) - 1) + 0.75*beth*(n/2 - 1)) + 49)*Max(0, -select_elbow_const(ceiling(M/calc_lambda(M, beth*(n/2 - 1))), 0) + ceiling(M/calc_lambda(M, beth*(n/2 - 1)))) + (ceiling(0.75*calc_lambda(M, 1)) + 49)*Max(0, -select_elbow_const(ceiling(M/calc_lambda(M, 1)), 0) + ceiling(M/calc_lambda(M, 1))) + 102*calc_lambda(M, 1) + 28.5*Heaviside(beth - 2.5, 0) + 5*Heaviside(beth - 1.5, 0) + 1397*Max(0, beth - Heaviside(beth - 2.5, 0) - Heaviside(beth - 1.5, 0) - 1) - 96'\n",
    ")\n",
    "gse = GSE(expr)"
   ]
  },
  {
   "cell_type": "code",
   "execution_count": 3,
   "metadata": {},
   "outputs": [
    {
     "data": {
      "text/latex": [
       "$\\displaystyle 55 \\beth \\left(-1 + \\frac{\\beth \\left(\\lambda - 1\\right) \\left(\\frac{n}{2} - 1\\right) + \\beth \\left(\\frac{n}{2} - 1\\right)}{\\beth \\left(\\frac{n}{2} - 1\\right)}\\right) \\left(\\frac{n}{2} - 1\\right) + 2 \\beth \\left(\\lambda - 1\\right) \\left(\\frac{n}{2} - 1\\right) \\left(2 \\left\\lceil{1.5 \\beth \\left(\\lambda - 1\\right) \\left(\\frac{n}{2} - 1\\right)}\\right\\rceil + 1\\right) + 3 \\beth \\left(\\lambda - 1\\right) \\left(\\frac{n}{2} - 1\\right) + 2 \\beth \\left(\\frac{n}{2} - 1\\right) \\left(2 \\left\\lceil{1.5 \\beth \\left(\\frac{n}{2} - 1\\right)}\\right\\rceil + 1\\right) + 3 \\beth \\left(\\frac{n}{2} - 1\\right) + 3 \\beth + 102 \\lambda + \\left(\\left(n - 2\\right) \\left(108 \\beth + \\left(\\left(\\left(8 \\left(\\left\\lceil{1.5 \\left(2 \\bmod \\frac{n}{2}\\right)}\\right\\rceil\\right)\\right) + 4\\right) \\left(2 \\bmod \\frac{n}{2}\\right)\\right) + \\left(4 \\left(\\left\\lceil{1.5 \\left(2 \\bmod \\frac{n}{2}\\right)}\\right\\rceil\\right)\\right) + 2748\\right)\\right) + \\left(\\left\\lceil{0.75 \\lambda}\\right\\rceil + 49\\right) \\max\\left(0, - \\operatorname{select}_{elbow const}{\\left(\\left\\lceil{\\frac{M}{\\lambda}}\\right\\rceil,0 \\right)} + \\left\\lceil{\\frac{M}{\\lambda}}\\right\\rceil\\right) + \\left(\\left\\lceil{0.75 \\beth \\left(\\lambda - 1\\right) \\left(\\frac{n}{2} - 1\\right) + 0.75 \\beth \\left(\\frac{n}{2} - 1\\right)}\\right\\rceil + 49\\right) \\max\\left(0, - \\operatorname{select}_{elbow const}{\\left(\\left\\lceil{\\frac{M}{\\lambda}}\\right\\rceil,0 \\right)} + \\left\\lceil{\\frac{M}{\\lambda}}\\right\\rceil\\right) + 28.5 \\theta\\left(\\beth - 2.5, 0\\right) + 5 \\theta\\left(\\beth - 1.5, 0\\right) + 1397 \\max\\left(0, \\beth - \\theta\\left(\\beth - 2.5, 0\\right) - \\theta\\left(\\beth - 1.5, 0\\right) - 1\\right) - 96$"
      ],
      "text/plain": [
       "55*beth*(-1 + (beth*(lambda - 1)*(n/2 - 1) + beth*(n/2 - 1))/(beth*(n/2 - 1)))*(n/2 - 1) + 2*beth*(lambda - 1)*(n/2 - 1)*(2*ceiling(1.5*beth*(lambda - 1)*(n/2 - 1)) + 1) + 3*beth*(lambda - 1)*(n/2 - 1) + 2*beth*(n/2 - 1)*(2*ceiling(1.5*beth*(n/2 - 1)) + 1) + 3*beth*(n/2 - 1) + 3*beth + 102*lambda + (n - 2)*(108*beth + (8*ceiling(1.5*(Mod(2, n/2))) + 4)*(Mod(2, n/2)) + 4*ceiling(1.5*(Mod(2, n/2))) + 2748) + (ceiling(0.75*lambda) + 49)*Max(0, -select_elbow_const(ceiling(M/lambda), 0) + ceiling(M/lambda)) + (ceiling(0.75*beth*(lambda - 1)*(n/2 - 1) + 0.75*beth*(n/2 - 1)) + 49)*Max(0, -select_elbow_const(ceiling(M/lambda), 0) + ceiling(M/lambda)) + 28.5*Heaviside(beth - 2.5, 0) + 5*Heaviside(beth - 1.5, 0) + 1397*Max(0, beth - Heaviside(beth - 2.5, 0) - Heaviside(beth - 1.5, 0) - 1) - 96"
      ]
     },
     "execution_count": 3,
     "metadata": {},
     "output_type": "execute_result"
    }
   ],
   "source": [
    "gse.wildcard_pattern_replacement(\"calc_lambda(x, y)\", \"lambda\")\n",
    "gse.expression"
   ]
  },
  {
   "cell_type": "code",
   "execution_count": 4,
   "metadata": {},
   "outputs": [
    {
     "data": {
      "text/latex": [
       "$\\displaystyle 55 \\beth \\left(-1 + \\frac{\\beth \\left(\\lambda - 1\\right) \\left(\\frac{n}{2} - 1\\right) + \\beth \\left(\\frac{n}{2} - 1\\right)}{\\beth \\left(\\frac{n}{2} - 1\\right)}\\right) \\left(\\frac{n}{2} - 1\\right) + 2 \\beth \\left(\\lambda - 1\\right) \\left(\\frac{n}{2} - 1\\right) \\left(2 \\left\\lceil{1.5 \\beth \\left(\\lambda - 1\\right) \\left(\\frac{n}{2} - 1\\right)}\\right\\rceil + 1\\right) + 3 \\beth \\left(\\lambda - 1\\right) \\left(\\frac{n}{2} - 1\\right) + 2 \\beth \\left(\\frac{n}{2} - 1\\right) \\left(2 \\left\\lceil{1.5 \\beth \\left(\\frac{n}{2} - 1\\right)}\\right\\rceil + 1\\right) + 3 \\beth \\left(\\frac{n}{2} - 1\\right) + 3 \\beth + 102 \\lambda + \\left(\\left(n - 2\\right) \\left(108 \\beth + \\left(\\left(\\left(8 \\left(\\left\\lceil{1.5 \\left(2 \\bmod \\frac{n}{2}\\right)}\\right\\rceil\\right)\\right) + 4\\right) \\left(2 \\bmod \\frac{n}{2}\\right)\\right) + \\left(4 \\left(\\left\\lceil{1.5 \\left(2 \\bmod \\frac{n}{2}\\right)}\\right\\rceil\\right)\\right) + 2748\\right)\\right) + \\left(\\left\\lceil{0.75 \\lambda}\\right\\rceil + 49\\right) \\max\\left(0, - A + \\left\\lceil{\\frac{M}{\\lambda}}\\right\\rceil\\right) + \\left(\\left\\lceil{0.75 \\beth \\left(\\lambda - 1\\right) \\left(\\frac{n}{2} - 1\\right) + 0.75 \\beth \\left(\\frac{n}{2} - 1\\right)}\\right\\rceil + 49\\right) \\max\\left(0, - A + \\left\\lceil{\\frac{M}{\\lambda}}\\right\\rceil\\right) + 28.5 \\theta\\left(\\beth - 2.5, 0\\right) + 5 \\theta\\left(\\beth - 1.5, 0\\right) + 1397 \\max\\left(0, \\beth - \\theta\\left(\\beth - 2.5, 0\\right) - \\theta\\left(\\beth - 1.5, 0\\right) - 1\\right) - 96$"
      ],
      "text/plain": [
       "55*beth*(-1 + (beth*(lambda - 1)*(n/2 - 1) + beth*(n/2 - 1))/(beth*(n/2 - 1)))*(n/2 - 1) + 2*beth*(lambda - 1)*(n/2 - 1)*(2*ceiling(1.5*beth*(lambda - 1)*(n/2 - 1)) + 1) + 3*beth*(lambda - 1)*(n/2 - 1) + 2*beth*(n/2 - 1)*(2*ceiling(1.5*beth*(n/2 - 1)) + 1) + 3*beth*(n/2 - 1) + 3*beth + 102*lambda + (n - 2)*(108*beth + (8*ceiling(1.5*(Mod(2, n/2))) + 4)*(Mod(2, n/2)) + 4*ceiling(1.5*(Mod(2, n/2))) + 2748) + (ceiling(0.75*lambda) + 49)*Max(0, -A + ceiling(M/lambda)) + (ceiling(0.75*beth*(lambda - 1)*(n/2 - 1) + 0.75*beth*(n/2 - 1)) + 49)*Max(0, -A + ceiling(M/lambda)) + 28.5*Heaviside(beth - 2.5, 0) + 5*Heaviside(beth - 1.5, 0) + 1397*Max(0, beth - Heaviside(beth - 2.5, 0) - Heaviside(beth - 1.5, 0) - 1) - 96"
      ]
     },
     "execution_count": 4,
     "metadata": {},
     "output_type": "execute_result"
    }
   ],
   "source": [
    "gse.wildcard_pattern_replacement(\"select_elbow_const(x, 0)\", \"A\")"
   ]
  },
  {
   "cell_type": "code",
   "execution_count": 5,
   "metadata": {},
   "outputs": [
    {
     "data": {
      "text/latex": [
       "$\\displaystyle 55 \\beth \\left(-1 + \\frac{\\beth \\left(\\lambda - 1\\right) \\left(\\frac{n}{2} - 1\\right) + \\beth \\left(\\frac{n}{2} - 1\\right)}{\\beth \\left(\\frac{n}{2} - 1\\right)}\\right) \\left(\\frac{n}{2} - 1\\right) + 2 \\beth \\left(\\lambda - 1\\right) \\left(\\frac{n}{2} - 1\\right) \\left(2 \\left\\lceil{1.5 \\beth \\left(\\lambda - 1\\right) \\left(\\frac{n}{2} - 1\\right)}\\right\\rceil + 1\\right) + 3 \\beth \\left(\\lambda - 1\\right) \\left(\\frac{n}{2} - 1\\right) + 2 \\beth \\left(\\frac{n}{2} - 1\\right) \\left(2 \\left\\lceil{1.5 \\beth \\left(\\frac{n}{2} - 1\\right)}\\right\\rceil + 1\\right) + 3 \\beth \\left(\\frac{n}{2} - 1\\right) + 3 \\beth + 102 \\lambda + \\left(\\left(n - 2\\right) \\left(108 \\beth + \\left(\\left(\\left(8 \\left(\\left\\lceil{1.5 \\left(2 \\bmod \\frac{n}{2}\\right)}\\right\\rceil\\right)\\right) + 4\\right) \\left(2 \\bmod \\frac{n}{2}\\right)\\right) + \\left(4 \\left(\\left\\lceil{1.5 \\left(2 \\bmod \\frac{n}{2}\\right)}\\right\\rceil\\right)\\right) + 2748\\right)\\right) + \\left(\\left\\lceil{0.75 \\lambda}\\right\\rceil + 49\\right) \\max\\left(0, - A + \\left\\lceil{\\frac{M}{\\lambda}}\\right\\rceil\\right) + \\left(\\left\\lceil{0.75 \\beth \\left(\\lambda - 1\\right) \\left(\\frac{n}{2} - 1\\right) + 0.75 \\beth \\left(\\frac{n}{2} - 1\\right)}\\right\\rceil + 49\\right) \\max\\left(0, - A + \\left\\lceil{\\frac{M}{\\lambda}}\\right\\rceil\\right) + 28.5 \\theta\\left(\\beth - 2.5, 0\\right) + 5 \\theta\\left(\\beth - 1.5, 0\\right) + 1397 \\max\\left(0, \\beth - \\theta\\left(\\beth - 2.5, 0\\right) - \\theta\\left(\\beth - 1.5, 0\\right) - 1\\right) - 96$"
      ],
      "text/plain": [
       "55*beth*(-1 + (beth*(lambda - 1)*(n/2 - 1) + beth*(n/2 - 1))/(beth*(n/2 - 1)))*(n/2 - 1) + 2*beth*(lambda - 1)*(n/2 - 1)*(2*ceiling(1.5*beth*(lambda - 1)*(n/2 - 1)) + 1) + 3*beth*(lambda - 1)*(n/2 - 1) + 2*beth*(n/2 - 1)*(2*ceiling(1.5*beth*(n/2 - 1)) + 1) + 3*beth*(n/2 - 1) + 3*beth + 102*lambda + (n - 2)*(108*beth + (8*ceiling(1.5*(Mod(2, n/2))) + 4)*(Mod(2, n/2)) + 4*ceiling(1.5*(Mod(2, n/2))) + 2748) + (ceiling(0.75*lambda) + 49)*Max(0, -A + ceiling(M/lambda)) + (ceiling(0.75*beth*(lambda - 1)*(n/2 - 1) + 0.75*beth*(n/2 - 1)) + 49)*Max(0, -A + ceiling(M/lambda)) + 28.5*Heaviside(beth - 2.5, 0) + 5*Heaviside(beth - 1.5, 0) + 1397*Max(0, beth - Heaviside(beth - 2.5, 0) - Heaviside(beth - 1.5, 0) - 1) - 96"
      ]
     },
     "execution_count": 5,
     "metadata": {},
     "output_type": "execute_result"
    }
   ],
   "source": [
    "gse.add_assumption(\"A>1\")"
   ]
  },
  {
   "cell_type": "code",
   "execution_count": 6,
   "metadata": {},
   "outputs": [
    {
     "data": {
      "text/latex": [
       "$\\displaystyle 55 \\beth \\left(-1 + \\frac{\\beth \\left(\\lambda - 1\\right) \\left(\\frac{n}{2} - 1\\right) + \\beth \\left(\\frac{n}{2} - 1\\right)}{\\beth \\left(\\frac{n}{2} - 1\\right)}\\right) \\left(\\frac{n}{2} - 1\\right) + 2 \\beth \\left(\\lambda - 1\\right) \\left(\\frac{n}{2} - 1\\right) \\left(2 \\left\\lceil{1.5 \\beth \\left(\\lambda - 1\\right) \\left(\\frac{n}{2} - 1\\right)}\\right\\rceil + 1\\right) + 3 \\beth \\left(\\lambda - 1\\right) \\left(\\frac{n}{2} - 1\\right) + 2 \\beth \\left(\\frac{n}{2} - 1\\right) \\left(2 \\left\\lceil{1.5 \\beth \\left(\\frac{n}{2} - 1\\right)}\\right\\rceil + 1\\right) + 3 \\beth \\left(\\frac{n}{2} - 1\\right) + 3 \\beth + 102 \\lambda + \\left(- A + \\left\\lceil{\\frac{M}{\\lambda}}\\right\\rceil\\right) \\left(\\left\\lceil{0.75 \\lambda}\\right\\rceil + 49\\right) + \\left(- A + \\left\\lceil{\\frac{M}{\\lambda}}\\right\\rceil\\right) \\left(\\left\\lceil{0.75 \\beth \\left(\\lambda - 1\\right) \\left(\\frac{n}{2} - 1\\right) + 0.75 \\beth \\left(\\frac{n}{2} - 1\\right)}\\right\\rceil + 49\\right) + \\left(\\left(n - 2\\right) \\left(108 \\beth + \\left(\\left(\\left(8 \\left(\\left\\lceil{1.5 \\left(2 \\bmod \\frac{n}{2}\\right)}\\right\\rceil\\right)\\right) + 4\\right) \\left(2 \\bmod \\frac{n}{2}\\right)\\right) + \\left(4 \\left(\\left\\lceil{1.5 \\left(2 \\bmod \\frac{n}{2}\\right)}\\right\\rceil\\right)\\right) + 2748\\right)\\right) + 28.5 \\theta\\left(\\beth - 2.5, 0\\right) + 5 \\theta\\left(\\beth - 1.5, 0\\right) + 1397 \\max\\left(0, \\beth - \\theta\\left(\\beth - 2.5, 0\\right) - \\theta\\left(\\beth - 1.5, 0\\right) - 1\\right) - 96$"
      ],
      "text/plain": [
       "55*beth*(-1 + (beth*(lambda - 1)*(n/2 - 1) + beth*(n/2 - 1))/(beth*(n/2 - 1)))*(n/2 - 1) + 2*beth*(lambda - 1)*(n/2 - 1)*(2*ceiling(1.5*beth*(lambda - 1)*(n/2 - 1)) + 1) + 3*beth*(lambda - 1)*(n/2 - 1) + 2*beth*(n/2 - 1)*(2*ceiling(1.5*beth*(n/2 - 1)) + 1) + 3*beth*(n/2 - 1) + 3*beth + 102*lambda + (-A + ceiling(M/lambda))*(ceiling(0.75*lambda) + 49) + (-A + ceiling(M/lambda))*(ceiling(0.75*beth*(lambda - 1)*(n/2 - 1) + 0.75*beth*(n/2 - 1)) + 49) + (n - 2)*(108*beth + (8*ceiling(1.5*(Mod(2, n/2))) + 4)*(Mod(2, n/2)) + 4*ceiling(1.5*(Mod(2, n/2))) + 2748) + 28.5*Heaviside(beth - 2.5, 0) + 5*Heaviside(beth - 1.5, 0) + 1397*Max(0, beth - Heaviside(beth - 2.5, 0) - Heaviside(beth - 1.5, 0) - 1) - 96"
      ]
     },
     "execution_count": 6,
     "metadata": {},
     "output_type": "execute_result"
    }
   ],
   "source": [
    "gse1 = GSE(gse.expression)\n",
    "gse1.add_assumption(\"ceiling(M/lambda) - A > 0\")"
   ]
  },
  {
   "cell_type": "markdown",
   "metadata": {},
   "source": []
  },
  {
   "cell_type": "code",
   "execution_count": 7,
   "metadata": {},
   "outputs": [
    {
     "data": {
      "text/latex": [
       "$\\displaystyle 55 \\beth \\left(-1 + \\frac{\\beth \\left(\\lambda - 1\\right) \\left(\\frac{n}{2} - 1\\right) + \\beth \\left(\\frac{n}{2} - 1\\right)}{\\beth \\left(\\frac{n}{2} - 1\\right)}\\right) \\left(\\frac{n}{2} - 1\\right) + 2 \\beth \\left(\\lambda - 1\\right) \\left(\\frac{n}{2} - 1\\right) \\left(2 \\left\\lceil{1.5 \\beth \\left(\\lambda - 1\\right) \\left(\\frac{n}{2} - 1\\right)}\\right\\rceil + 1\\right) + 3 \\beth \\left(\\lambda - 1\\right) \\left(\\frac{n}{2} - 1\\right) + 2 \\beth \\left(\\frac{n}{2} - 1\\right) \\left(2 \\left\\lceil{1.5 \\beth \\left(\\frac{n}{2} - 1\\right)}\\right\\rceil + 1\\right) + 3 \\beth \\left(\\frac{n}{2} - 1\\right) + 3 \\beth + 102 \\lambda + \\left(- A + \\left\\lceil{\\frac{M}{\\lambda}}\\right\\rceil\\right) \\left(\\left\\lceil{0.75 \\lambda}\\right\\rceil + 49\\right) + \\left(- A + \\left\\lceil{\\frac{M}{\\lambda}}\\right\\rceil\\right) \\left(\\left\\lceil{0.75 \\beth \\left(\\lambda - 1\\right) \\left(\\frac{n}{2} - 1\\right) + 0.75 \\beth \\left(\\frac{n}{2} - 1\\right)}\\right\\rceil + 49\\right) + \\left(\\left(n - 2\\right) \\left(108 \\beth + \\left(\\left(\\left(8 \\left(\\left\\lceil{1.5 \\left(2 \\bmod \\frac{n}{2}\\right)}\\right\\rceil\\right)\\right) + 4\\right) \\left(2 \\bmod \\frac{n}{2}\\right)\\right) + \\left(4 \\left(\\left\\lceil{1.5 \\left(2 \\bmod \\frac{n}{2}\\right)}\\right\\rceil\\right)\\right) + 2748\\right)\\right) + 28.5 \\theta\\left(\\beth - 2.5, 0\\right) + 5 \\theta\\left(\\beth - 1.5, 0\\right) + 1397 \\max\\left(0, \\beth - \\theta\\left(\\beth - 2.5, 0\\right) - \\theta\\left(\\beth - 1.5, 0\\right) - 1\\right) - 96$"
      ],
      "text/plain": [
       "55*beth*(-1 + (beth*(lambda - 1)*(n/2 - 1) + beth*(n/2 - 1))/(beth*(n/2 - 1)))*(n/2 - 1) + 2*beth*(lambda - 1)*(n/2 - 1)*(2*ceiling(1.5*beth*(lambda - 1)*(n/2 - 1)) + 1) + 3*beth*(lambda - 1)*(n/2 - 1) + 2*beth*(n/2 - 1)*(2*ceiling(1.5*beth*(n/2 - 1)) + 1) + 3*beth*(n/2 - 1) + 3*beth + 102*lambda + (-A + ceiling(M/lambda))*(ceiling(0.75*lambda) + 49) + (-A + ceiling(M/lambda))*(ceiling(0.75*beth*(lambda - 1)*(n/2 - 1) + 0.75*beth*(n/2 - 1)) + 49) + (n - 2)*(108*beth + (8*ceiling(1.5*(Mod(2, n/2))) + 4)*(Mod(2, n/2)) + 4*ceiling(1.5*(Mod(2, n/2))) + 2748) + 28.5*Heaviside(beth - 2.5, 0) + 5*Heaviside(beth - 1.5, 0) + 1397*Max(0, beth - Heaviside(beth - 2.5, 0) - Heaviside(beth - 1.5, 0) - 1) - 96"
      ]
     },
     "execution_count": 7,
     "metadata": {},
     "output_type": "execute_result"
    }
   ],
   "source": [
    "gse.add_assumption(\"ceiling(M/lambda) - A > 0\")"
   ]
  },
  {
   "cell_type": "code",
   "execution_count": null,
   "metadata": {},
   "outputs": [],
   "source": []
  }
 ],
 "metadata": {
  "kernelspec": {
   "display_name": "bartiq-5L4Vw2in-py3.12",
   "language": "python",
   "name": "python3"
  },
  "language_info": {
   "codemirror_mode": {
    "name": "ipython",
    "version": 3
   },
   "file_extension": ".py",
   "mimetype": "text/x-python",
   "name": "python",
   "nbconvert_exporter": "python",
   "pygments_lexer": "ipython3",
   "version": "3.12.3"
  }
 },
 "nbformat": 4,
 "nbformat_minor": 2
}
