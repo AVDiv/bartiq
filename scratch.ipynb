{
 "cells": [
  {
   "cell_type": "code",
   "execution_count": null,
   "metadata": {},
   "outputs": [
    {
     "data": {
      "text/latex": [
       "$\\displaystyle \\frac{\\operatorname{heaviside}{\\left(a \\operatorname{log}_{2}{\\left(x \\right)} \\right)}}{\\operatorname{log}_{10}{\\left(y \\right)}} + \\operatorname{log}_{10}{\\left(x y \\right)} \\operatorname{mlz}{\\left(\\frac{x y}{z} \\right)}$"
      ],
      "text/plain": [
       "heaviside(a*log_2(x))/log_10(y) + log_10(x*y)*mlz(x*y/z)"
      ]
     },
     "execution_count": 7,
     "metadata": {},
     "output_type": "execute_result"
    }
   ],
   "source": [
    "from sympy import sympify\n",
    "\n",
    "expr = sympify(\"heaviside(a*log2(x))/log_10(y) + mlz(x*y/z)*log_10(x*y)\")\n",
    "\n",
    "expr"
   ]
  },
  {
   "cell_type": "code",
   "execution_count": 8,
   "metadata": {},
   "outputs": [],
   "source": [
    "from bartiq.symbolics.sympy_backends import BUILT_IN_FUNCTIONS, sympy_backend"
   ]
  },
  {
   "cell_type": "code",
   "execution_count": 9,
   "metadata": {},
   "outputs": [
    {
     "data": {
      "text/plain": [
       "[('log_2', 'log2'), ('log_10', 'log10')]"
      ]
     },
     "execution_count": 9,
     "metadata": {},
     "output_type": "execute_result"
    }
   ],
   "source": [
    "sympy_backend.find_undefined_functions(expr, user_defined=[\"mlz\"])"
   ]
  },
  {
   "cell_type": "code",
   "execution_count": null,
   "metadata": {},
   "outputs": [],
   "source": [
    "expr.subs()"
   ]
  }
 ],
 "metadata": {
  "kernelspec": {
   "display_name": "bartiq-NENgNB9d-py3.12",
   "language": "python",
   "name": "python3"
  },
  "language_info": {
   "codemirror_mode": {
    "name": "ipython",
    "version": 3
   },
   "file_extension": ".py",
   "mimetype": "text/x-python",
   "name": "python",
   "nbconvert_exporter": "python",
   "pygments_lexer": "ipython3",
   "version": "3.12.9"
  }
 },
 "nbformat": 4,
 "nbformat_minor": 2
}
